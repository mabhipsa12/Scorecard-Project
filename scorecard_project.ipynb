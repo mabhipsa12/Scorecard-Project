{
  "nbformat": 4,
  "nbformat_minor": 0,
  "metadata": {
    "colab": {
      "provenance": [],
      "mount_file_id": "https://github.com/mabhipsa12/Scorecard-Project/blob/main/scorecard_project.ipynb",
      "authorship_tag": "ABX9TyOos2R+D9hjSgxyo4vZ/OaC",
      "include_colab_link": true
    },
    "kernelspec": {
      "name": "python3",
      "display_name": "Python 3"
    },
    "language_info": {
      "name": "python"
    }
  },
  "cells": [
    {
      "cell_type": "markdown",
      "metadata": {
        "id": "view-in-github",
        "colab_type": "text"
      },
      "source": [
        "<a href=\"https://colab.research.google.com/github/mabhipsa12/Scorecard-Project/blob/main/scorecard_project.ipynb\" target=\"_parent\"><img src=\"https://colab.research.google.com/assets/colab-badge.svg\" alt=\"Open In Colab\"/></a>"
      ]
    },
    {
      "cell_type": "code",
      "source": [
        "https://www.kaggle.com/datasets/rikdifos/credit-card-approval-prediction"
      ],
      "metadata": {
        "id": "Y3lVhCfnu3vH"
      },
      "execution_count": null,
      "outputs": []
    },
    {
      "cell_type": "markdown",
      "source": [
        "#📌 Step 1: Load and Explore the Datasets"
      ],
      "metadata": {
        "id": "YXRdnbSSadUK"
      }
    },
    {
      "cell_type": "markdown",
      "source": [
        "Objective:\\\n",
        "1) Load the application_record.csv and credit_record.csv.\\\n",
        "2) Check basic details like shape, missing values, and data types.\n",
        "\n"
      ],
      "metadata": {
        "id": "JrEAmMcYap20"
      }
    },
    {
      "cell_type": "markdown",
      "source": [
        "app_df = pd.read_csv('/application_record.csv')\n",
        "credit_df = pd.read_csv('/credit_record.csv')"
      ],
      "metadata": {
        "id": "jpq9tN2Wag4X"
      }
    },
    {
      "cell_type": "code",
      "source": [
        "import pandas as pd\n",
        "import numpy as sns\n",
        "import numpy as np\n",
        "import matplotlib.pyplot as plt\n",
        "import seaborn as sns"
      ],
      "metadata": {
        "id": "S0i3U59Faox3"
      },
      "execution_count": 3,
      "outputs": []
    },
    {
      "cell_type": "code",
      "source": [
        "from google.colab import drive\n",
        "drive.mount('/content/drive')"
      ],
      "metadata": {
        "id": "fAb0UfPTEGo3",
        "outputId": "ce079add-7a0b-49c8-d925-f4defdef155e",
        "colab": {
          "base_uri": "https://localhost:8080/"
        }
      },
      "execution_count": 4,
      "outputs": [
        {
          "output_type": "stream",
          "name": "stdout",
          "text": [
            "Drive already mounted at /content/drive; to attempt to forcibly remount, call drive.mount(\"/content/drive\", force_remount=True).\n"
          ]
        }
      ]
    },
    {
      "cell_type": "code",
      "source": [
        "# prompt: import application data as app_df and creditdata as credit_df\n",
        "\n",
        "import pandas as pd\n",
        "app_df = pd.read_csv('/content/drive/MyDrive/Colab Notebooks/application_record.csv')\n",
        "credit_df = pd.read_csv('/content/drive/MyDrive/Colab Notebooks/credit_record.csv')\n"
      ],
      "metadata": {
        "id": "5kmw1hi2wEqj"
      },
      "execution_count": 6,
      "outputs": []
    },
    {
      "cell_type": "code",
      "source": [
        "# Display first 5 rows of each dataset\n",
        "print(\"\\nApplication Data Sample:\")\n",
        "display(app_df.head())\n",
        "\n",
        "print(\"\\nCredit Data Sample:\")\n",
        "display(credit_df.head())"
      ],
      "metadata": {
        "colab": {
          "base_uri": "https://localhost:8080/",
          "height": 536
        },
        "id": "zWnMu1vFd6-F",
        "outputId": "5e6a17f8-dd93-40a0-e2fd-05880f3652b9"
      },
      "execution_count": 7,
      "outputs": [
        {
          "output_type": "stream",
          "name": "stdout",
          "text": [
            "\n",
            "Application Data Sample:\n"
          ]
        },
        {
          "output_type": "display_data",
          "data": {
            "text/plain": [
              "        ID CODE_GENDER FLAG_OWN_CAR FLAG_OWN_REALTY  CNT_CHILDREN  \\\n",
              "0  5008804           M            Y               Y             0   \n",
              "1  5008805           M            Y               Y             0   \n",
              "2  5008806           M            Y               Y             0   \n",
              "3  5008808           F            N               Y             0   \n",
              "4  5008809           F            N               Y             0   \n",
              "\n",
              "   AMT_INCOME_TOTAL      NAME_INCOME_TYPE            NAME_EDUCATION_TYPE  \\\n",
              "0          427500.0               Working               Higher education   \n",
              "1          427500.0               Working               Higher education   \n",
              "2          112500.0               Working  Secondary / secondary special   \n",
              "3          270000.0  Commercial associate  Secondary / secondary special   \n",
              "4          270000.0  Commercial associate  Secondary / secondary special   \n",
              "\n",
              "     NAME_FAMILY_STATUS  NAME_HOUSING_TYPE  DAYS_BIRTH  DAYS_EMPLOYED  \\\n",
              "0        Civil marriage   Rented apartment      -12005          -4542   \n",
              "1        Civil marriage   Rented apartment      -12005          -4542   \n",
              "2               Married  House / apartment      -21474          -1134   \n",
              "3  Single / not married  House / apartment      -19110          -3051   \n",
              "4  Single / not married  House / apartment      -19110          -3051   \n",
              "\n",
              "   FLAG_MOBIL  FLAG_WORK_PHONE  FLAG_PHONE  FLAG_EMAIL OCCUPATION_TYPE  \\\n",
              "0           1                1           0           0             NaN   \n",
              "1           1                1           0           0             NaN   \n",
              "2           1                0           0           0  Security staff   \n",
              "3           1                0           1           1     Sales staff   \n",
              "4           1                0           1           1     Sales staff   \n",
              "\n",
              "   CNT_FAM_MEMBERS  \n",
              "0              2.0  \n",
              "1              2.0  \n",
              "2              2.0  \n",
              "3              1.0  \n",
              "4              1.0  "
            ],
            "text/html": [
              "\n",
              "  <div id=\"df-075f82f1-dea4-49fb-9a42-08effff93e6f\" class=\"colab-df-container\">\n",
              "    <div>\n",
              "<style scoped>\n",
              "    .dataframe tbody tr th:only-of-type {\n",
              "        vertical-align: middle;\n",
              "    }\n",
              "\n",
              "    .dataframe tbody tr th {\n",
              "        vertical-align: top;\n",
              "    }\n",
              "\n",
              "    .dataframe thead th {\n",
              "        text-align: right;\n",
              "    }\n",
              "</style>\n",
              "<table border=\"1\" class=\"dataframe\">\n",
              "  <thead>\n",
              "    <tr style=\"text-align: right;\">\n",
              "      <th></th>\n",
              "      <th>ID</th>\n",
              "      <th>CODE_GENDER</th>\n",
              "      <th>FLAG_OWN_CAR</th>\n",
              "      <th>FLAG_OWN_REALTY</th>\n",
              "      <th>CNT_CHILDREN</th>\n",
              "      <th>AMT_INCOME_TOTAL</th>\n",
              "      <th>NAME_INCOME_TYPE</th>\n",
              "      <th>NAME_EDUCATION_TYPE</th>\n",
              "      <th>NAME_FAMILY_STATUS</th>\n",
              "      <th>NAME_HOUSING_TYPE</th>\n",
              "      <th>DAYS_BIRTH</th>\n",
              "      <th>DAYS_EMPLOYED</th>\n",
              "      <th>FLAG_MOBIL</th>\n",
              "      <th>FLAG_WORK_PHONE</th>\n",
              "      <th>FLAG_PHONE</th>\n",
              "      <th>FLAG_EMAIL</th>\n",
              "      <th>OCCUPATION_TYPE</th>\n",
              "      <th>CNT_FAM_MEMBERS</th>\n",
              "    </tr>\n",
              "  </thead>\n",
              "  <tbody>\n",
              "    <tr>\n",
              "      <th>0</th>\n",
              "      <td>5008804</td>\n",
              "      <td>M</td>\n",
              "      <td>Y</td>\n",
              "      <td>Y</td>\n",
              "      <td>0</td>\n",
              "      <td>427500.0</td>\n",
              "      <td>Working</td>\n",
              "      <td>Higher education</td>\n",
              "      <td>Civil marriage</td>\n",
              "      <td>Rented apartment</td>\n",
              "      <td>-12005</td>\n",
              "      <td>-4542</td>\n",
              "      <td>1</td>\n",
              "      <td>1</td>\n",
              "      <td>0</td>\n",
              "      <td>0</td>\n",
              "      <td>NaN</td>\n",
              "      <td>2.0</td>\n",
              "    </tr>\n",
              "    <tr>\n",
              "      <th>1</th>\n",
              "      <td>5008805</td>\n",
              "      <td>M</td>\n",
              "      <td>Y</td>\n",
              "      <td>Y</td>\n",
              "      <td>0</td>\n",
              "      <td>427500.0</td>\n",
              "      <td>Working</td>\n",
              "      <td>Higher education</td>\n",
              "      <td>Civil marriage</td>\n",
              "      <td>Rented apartment</td>\n",
              "      <td>-12005</td>\n",
              "      <td>-4542</td>\n",
              "      <td>1</td>\n",
              "      <td>1</td>\n",
              "      <td>0</td>\n",
              "      <td>0</td>\n",
              "      <td>NaN</td>\n",
              "      <td>2.0</td>\n",
              "    </tr>\n",
              "    <tr>\n",
              "      <th>2</th>\n",
              "      <td>5008806</td>\n",
              "      <td>M</td>\n",
              "      <td>Y</td>\n",
              "      <td>Y</td>\n",
              "      <td>0</td>\n",
              "      <td>112500.0</td>\n",
              "      <td>Working</td>\n",
              "      <td>Secondary / secondary special</td>\n",
              "      <td>Married</td>\n",
              "      <td>House / apartment</td>\n",
              "      <td>-21474</td>\n",
              "      <td>-1134</td>\n",
              "      <td>1</td>\n",
              "      <td>0</td>\n",
              "      <td>0</td>\n",
              "      <td>0</td>\n",
              "      <td>Security staff</td>\n",
              "      <td>2.0</td>\n",
              "    </tr>\n",
              "    <tr>\n",
              "      <th>3</th>\n",
              "      <td>5008808</td>\n",
              "      <td>F</td>\n",
              "      <td>N</td>\n",
              "      <td>Y</td>\n",
              "      <td>0</td>\n",
              "      <td>270000.0</td>\n",
              "      <td>Commercial associate</td>\n",
              "      <td>Secondary / secondary special</td>\n",
              "      <td>Single / not married</td>\n",
              "      <td>House / apartment</td>\n",
              "      <td>-19110</td>\n",
              "      <td>-3051</td>\n",
              "      <td>1</td>\n",
              "      <td>0</td>\n",
              "      <td>1</td>\n",
              "      <td>1</td>\n",
              "      <td>Sales staff</td>\n",
              "      <td>1.0</td>\n",
              "    </tr>\n",
              "    <tr>\n",
              "      <th>4</th>\n",
              "      <td>5008809</td>\n",
              "      <td>F</td>\n",
              "      <td>N</td>\n",
              "      <td>Y</td>\n",
              "      <td>0</td>\n",
              "      <td>270000.0</td>\n",
              "      <td>Commercial associate</td>\n",
              "      <td>Secondary / secondary special</td>\n",
              "      <td>Single / not married</td>\n",
              "      <td>House / apartment</td>\n",
              "      <td>-19110</td>\n",
              "      <td>-3051</td>\n",
              "      <td>1</td>\n",
              "      <td>0</td>\n",
              "      <td>1</td>\n",
              "      <td>1</td>\n",
              "      <td>Sales staff</td>\n",
              "      <td>1.0</td>\n",
              "    </tr>\n",
              "  </tbody>\n",
              "</table>\n",
              "</div>\n",
              "    <div class=\"colab-df-buttons\">\n",
              "\n",
              "  <div class=\"colab-df-container\">\n",
              "    <button class=\"colab-df-convert\" onclick=\"convertToInteractive('df-075f82f1-dea4-49fb-9a42-08effff93e6f')\"\n",
              "            title=\"Convert this dataframe to an interactive table.\"\n",
              "            style=\"display:none;\">\n",
              "\n",
              "  <svg xmlns=\"http://www.w3.org/2000/svg\" height=\"24px\" viewBox=\"0 -960 960 960\">\n",
              "    <path d=\"M120-120v-720h720v720H120Zm60-500h600v-160H180v160Zm220 220h160v-160H400v160Zm0 220h160v-160H400v160ZM180-400h160v-160H180v160Zm440 0h160v-160H620v160ZM180-180h160v-160H180v160Zm440 0h160v-160H620v160Z\"/>\n",
              "  </svg>\n",
              "    </button>\n",
              "\n",
              "  <style>\n",
              "    .colab-df-container {\n",
              "      display:flex;\n",
              "      gap: 12px;\n",
              "    }\n",
              "\n",
              "    .colab-df-convert {\n",
              "      background-color: #E8F0FE;\n",
              "      border: none;\n",
              "      border-radius: 50%;\n",
              "      cursor: pointer;\n",
              "      display: none;\n",
              "      fill: #1967D2;\n",
              "      height: 32px;\n",
              "      padding: 0 0 0 0;\n",
              "      width: 32px;\n",
              "    }\n",
              "\n",
              "    .colab-df-convert:hover {\n",
              "      background-color: #E2EBFA;\n",
              "      box-shadow: 0px 1px 2px rgba(60, 64, 67, 0.3), 0px 1px 3px 1px rgba(60, 64, 67, 0.15);\n",
              "      fill: #174EA6;\n",
              "    }\n",
              "\n",
              "    .colab-df-buttons div {\n",
              "      margin-bottom: 4px;\n",
              "    }\n",
              "\n",
              "    [theme=dark] .colab-df-convert {\n",
              "      background-color: #3B4455;\n",
              "      fill: #D2E3FC;\n",
              "    }\n",
              "\n",
              "    [theme=dark] .colab-df-convert:hover {\n",
              "      background-color: #434B5C;\n",
              "      box-shadow: 0px 1px 3px 1px rgba(0, 0, 0, 0.15);\n",
              "      filter: drop-shadow(0px 1px 2px rgba(0, 0, 0, 0.3));\n",
              "      fill: #FFFFFF;\n",
              "    }\n",
              "  </style>\n",
              "\n",
              "    <script>\n",
              "      const buttonEl =\n",
              "        document.querySelector('#df-075f82f1-dea4-49fb-9a42-08effff93e6f button.colab-df-convert');\n",
              "      buttonEl.style.display =\n",
              "        google.colab.kernel.accessAllowed ? 'block' : 'none';\n",
              "\n",
              "      async function convertToInteractive(key) {\n",
              "        const element = document.querySelector('#df-075f82f1-dea4-49fb-9a42-08effff93e6f');\n",
              "        const dataTable =\n",
              "          await google.colab.kernel.invokeFunction('convertToInteractive',\n",
              "                                                    [key], {});\n",
              "        if (!dataTable) return;\n",
              "\n",
              "        const docLinkHtml = 'Like what you see? Visit the ' +\n",
              "          '<a target=\"_blank\" href=https://colab.research.google.com/notebooks/data_table.ipynb>data table notebook</a>'\n",
              "          + ' to learn more about interactive tables.';\n",
              "        element.innerHTML = '';\n",
              "        dataTable['output_type'] = 'display_data';\n",
              "        await google.colab.output.renderOutput(dataTable, element);\n",
              "        const docLink = document.createElement('div');\n",
              "        docLink.innerHTML = docLinkHtml;\n",
              "        element.appendChild(docLink);\n",
              "      }\n",
              "    </script>\n",
              "  </div>\n",
              "\n",
              "\n",
              "<div id=\"df-0e81d80d-68f8-4a02-9636-75c0ab79a923\">\n",
              "  <button class=\"colab-df-quickchart\" onclick=\"quickchart('df-0e81d80d-68f8-4a02-9636-75c0ab79a923')\"\n",
              "            title=\"Suggest charts\"\n",
              "            style=\"display:none;\">\n",
              "\n",
              "<svg xmlns=\"http://www.w3.org/2000/svg\" height=\"24px\"viewBox=\"0 0 24 24\"\n",
              "     width=\"24px\">\n",
              "    <g>\n",
              "        <path d=\"M19 3H5c-1.1 0-2 .9-2 2v14c0 1.1.9 2 2 2h14c1.1 0 2-.9 2-2V5c0-1.1-.9-2-2-2zM9 17H7v-7h2v7zm4 0h-2V7h2v10zm4 0h-2v-4h2v4z\"/>\n",
              "    </g>\n",
              "</svg>\n",
              "  </button>\n",
              "\n",
              "<style>\n",
              "  .colab-df-quickchart {\n",
              "      --bg-color: #E8F0FE;\n",
              "      --fill-color: #1967D2;\n",
              "      --hover-bg-color: #E2EBFA;\n",
              "      --hover-fill-color: #174EA6;\n",
              "      --disabled-fill-color: #AAA;\n",
              "      --disabled-bg-color: #DDD;\n",
              "  }\n",
              "\n",
              "  [theme=dark] .colab-df-quickchart {\n",
              "      --bg-color: #3B4455;\n",
              "      --fill-color: #D2E3FC;\n",
              "      --hover-bg-color: #434B5C;\n",
              "      --hover-fill-color: #FFFFFF;\n",
              "      --disabled-bg-color: #3B4455;\n",
              "      --disabled-fill-color: #666;\n",
              "  }\n",
              "\n",
              "  .colab-df-quickchart {\n",
              "    background-color: var(--bg-color);\n",
              "    border: none;\n",
              "    border-radius: 50%;\n",
              "    cursor: pointer;\n",
              "    display: none;\n",
              "    fill: var(--fill-color);\n",
              "    height: 32px;\n",
              "    padding: 0;\n",
              "    width: 32px;\n",
              "  }\n",
              "\n",
              "  .colab-df-quickchart:hover {\n",
              "    background-color: var(--hover-bg-color);\n",
              "    box-shadow: 0 1px 2px rgba(60, 64, 67, 0.3), 0 1px 3px 1px rgba(60, 64, 67, 0.15);\n",
              "    fill: var(--button-hover-fill-color);\n",
              "  }\n",
              "\n",
              "  .colab-df-quickchart-complete:disabled,\n",
              "  .colab-df-quickchart-complete:disabled:hover {\n",
              "    background-color: var(--disabled-bg-color);\n",
              "    fill: var(--disabled-fill-color);\n",
              "    box-shadow: none;\n",
              "  }\n",
              "\n",
              "  .colab-df-spinner {\n",
              "    border: 2px solid var(--fill-color);\n",
              "    border-color: transparent;\n",
              "    border-bottom-color: var(--fill-color);\n",
              "    animation:\n",
              "      spin 1s steps(1) infinite;\n",
              "  }\n",
              "\n",
              "  @keyframes spin {\n",
              "    0% {\n",
              "      border-color: transparent;\n",
              "      border-bottom-color: var(--fill-color);\n",
              "      border-left-color: var(--fill-color);\n",
              "    }\n",
              "    20% {\n",
              "      border-color: transparent;\n",
              "      border-left-color: var(--fill-color);\n",
              "      border-top-color: var(--fill-color);\n",
              "    }\n",
              "    30% {\n",
              "      border-color: transparent;\n",
              "      border-left-color: var(--fill-color);\n",
              "      border-top-color: var(--fill-color);\n",
              "      border-right-color: var(--fill-color);\n",
              "    }\n",
              "    40% {\n",
              "      border-color: transparent;\n",
              "      border-right-color: var(--fill-color);\n",
              "      border-top-color: var(--fill-color);\n",
              "    }\n",
              "    60% {\n",
              "      border-color: transparent;\n",
              "      border-right-color: var(--fill-color);\n",
              "    }\n",
              "    80% {\n",
              "      border-color: transparent;\n",
              "      border-right-color: var(--fill-color);\n",
              "      border-bottom-color: var(--fill-color);\n",
              "    }\n",
              "    90% {\n",
              "      border-color: transparent;\n",
              "      border-bottom-color: var(--fill-color);\n",
              "    }\n",
              "  }\n",
              "</style>\n",
              "\n",
              "  <script>\n",
              "    async function quickchart(key) {\n",
              "      const quickchartButtonEl =\n",
              "        document.querySelector('#' + key + ' button');\n",
              "      quickchartButtonEl.disabled = true;  // To prevent multiple clicks.\n",
              "      quickchartButtonEl.classList.add('colab-df-spinner');\n",
              "      try {\n",
              "        const charts = await google.colab.kernel.invokeFunction(\n",
              "            'suggestCharts', [key], {});\n",
              "      } catch (error) {\n",
              "        console.error('Error during call to suggestCharts:', error);\n",
              "      }\n",
              "      quickchartButtonEl.classList.remove('colab-df-spinner');\n",
              "      quickchartButtonEl.classList.add('colab-df-quickchart-complete');\n",
              "    }\n",
              "    (() => {\n",
              "      let quickchartButtonEl =\n",
              "        document.querySelector('#df-0e81d80d-68f8-4a02-9636-75c0ab79a923 button');\n",
              "      quickchartButtonEl.style.display =\n",
              "        google.colab.kernel.accessAllowed ? 'block' : 'none';\n",
              "    })();\n",
              "  </script>\n",
              "</div>\n",
              "\n",
              "    </div>\n",
              "  </div>\n"
            ],
            "application/vnd.google.colaboratory.intrinsic+json": {
              "type": "dataframe",
              "summary": "{\n  \"name\": \"display(credit_df\",\n  \"rows\": 5,\n  \"fields\": [\n    {\n      \"column\": \"ID\",\n      \"properties\": {\n        \"dtype\": \"number\",\n        \"std\": 2,\n        \"min\": 5008804,\n        \"max\": 5008809,\n        \"num_unique_values\": 5,\n        \"samples\": [\n          5008805,\n          5008809,\n          5008806\n        ],\n        \"semantic_type\": \"\",\n        \"description\": \"\"\n      }\n    },\n    {\n      \"column\": \"CODE_GENDER\",\n      \"properties\": {\n        \"dtype\": \"category\",\n        \"num_unique_values\": 2,\n        \"samples\": [\n          \"F\",\n          \"M\"\n        ],\n        \"semantic_type\": \"\",\n        \"description\": \"\"\n      }\n    },\n    {\n      \"column\": \"FLAG_OWN_CAR\",\n      \"properties\": {\n        \"dtype\": \"category\",\n        \"num_unique_values\": 2,\n        \"samples\": [\n          \"N\",\n          \"Y\"\n        ],\n        \"semantic_type\": \"\",\n        \"description\": \"\"\n      }\n    },\n    {\n      \"column\": \"FLAG_OWN_REALTY\",\n      \"properties\": {\n        \"dtype\": \"category\",\n        \"num_unique_values\": 1,\n        \"samples\": [\n          \"Y\"\n        ],\n        \"semantic_type\": \"\",\n        \"description\": \"\"\n      }\n    },\n    {\n      \"column\": \"CNT_CHILDREN\",\n      \"properties\": {\n        \"dtype\": \"number\",\n        \"std\": 0,\n        \"min\": 0,\n        \"max\": 0,\n        \"num_unique_values\": 1,\n        \"samples\": [\n          0\n        ],\n        \"semantic_type\": \"\",\n        \"description\": \"\"\n      }\n    },\n    {\n      \"column\": \"AMT_INCOME_TOTAL\",\n      \"properties\": {\n        \"dtype\": \"number\",\n        \"std\": 131773.9541791169,\n        \"min\": 112500.0,\n        \"max\": 427500.0,\n        \"num_unique_values\": 3,\n        \"samples\": [\n          427500.0\n        ],\n        \"semantic_type\": \"\",\n        \"description\": \"\"\n      }\n    },\n    {\n      \"column\": \"NAME_INCOME_TYPE\",\n      \"properties\": {\n        \"dtype\": \"category\",\n        \"num_unique_values\": 2,\n        \"samples\": [\n          \"Commercial associate\"\n        ],\n        \"semantic_type\": \"\",\n        \"description\": \"\"\n      }\n    },\n    {\n      \"column\": \"NAME_EDUCATION_TYPE\",\n      \"properties\": {\n        \"dtype\": \"category\",\n        \"num_unique_values\": 2,\n        \"samples\": [\n          \"Secondary / secondary special\"\n        ],\n        \"semantic_type\": \"\",\n        \"description\": \"\"\n      }\n    },\n    {\n      \"column\": \"NAME_FAMILY_STATUS\",\n      \"properties\": {\n        \"dtype\": \"string\",\n        \"num_unique_values\": 3,\n        \"samples\": [\n          \"Civil marriage\"\n        ],\n        \"semantic_type\": \"\",\n        \"description\": \"\"\n      }\n    },\n    {\n      \"column\": \"NAME_HOUSING_TYPE\",\n      \"properties\": {\n        \"dtype\": \"category\",\n        \"num_unique_values\": 2,\n        \"samples\": [\n          \"House / apartment\"\n        ],\n        \"semantic_type\": \"\",\n        \"description\": \"\"\n      }\n    },\n    {\n      \"column\": \"DAYS_BIRTH\",\n      \"properties\": {\n        \"dtype\": \"number\",\n        \"std\": 4429,\n        \"min\": -21474,\n        \"max\": -12005,\n        \"num_unique_values\": 3,\n        \"samples\": [\n          -12005\n        ],\n        \"semantic_type\": \"\",\n        \"description\": \"\"\n      }\n    },\n    {\n      \"column\": \"DAYS_EMPLOYED\",\n      \"properties\": {\n        \"dtype\": \"number\",\n        \"std\": 1404,\n        \"min\": -4542,\n        \"max\": -1134,\n        \"num_unique_values\": 3,\n        \"samples\": [\n          -4542\n        ],\n        \"semantic_type\": \"\",\n        \"description\": \"\"\n      }\n    },\n    {\n      \"column\": \"FLAG_MOBIL\",\n      \"properties\": {\n        \"dtype\": \"number\",\n        \"std\": 0,\n        \"min\": 1,\n        \"max\": 1,\n        \"num_unique_values\": 1,\n        \"samples\": [\n          1\n        ],\n        \"semantic_type\": \"\",\n        \"description\": \"\"\n      }\n    },\n    {\n      \"column\": \"FLAG_WORK_PHONE\",\n      \"properties\": {\n        \"dtype\": \"number\",\n        \"std\": 0,\n        \"min\": 0,\n        \"max\": 1,\n        \"num_unique_values\": 2,\n        \"samples\": [\n          0\n        ],\n        \"semantic_type\": \"\",\n        \"description\": \"\"\n      }\n    },\n    {\n      \"column\": \"FLAG_PHONE\",\n      \"properties\": {\n        \"dtype\": \"number\",\n        \"std\": 0,\n        \"min\": 0,\n        \"max\": 1,\n        \"num_unique_values\": 2,\n        \"samples\": [\n          1\n        ],\n        \"semantic_type\": \"\",\n        \"description\": \"\"\n      }\n    },\n    {\n      \"column\": \"FLAG_EMAIL\",\n      \"properties\": {\n        \"dtype\": \"number\",\n        \"std\": 0,\n        \"min\": 0,\n        \"max\": 1,\n        \"num_unique_values\": 2,\n        \"samples\": [\n          1\n        ],\n        \"semantic_type\": \"\",\n        \"description\": \"\"\n      }\n    },\n    {\n      \"column\": \"OCCUPATION_TYPE\",\n      \"properties\": {\n        \"dtype\": \"category\",\n        \"num_unique_values\": 2,\n        \"samples\": [\n          \"Sales staff\"\n        ],\n        \"semantic_type\": \"\",\n        \"description\": \"\"\n      }\n    },\n    {\n      \"column\": \"CNT_FAM_MEMBERS\",\n      \"properties\": {\n        \"dtype\": \"number\",\n        \"std\": 0.5477225575051661,\n        \"min\": 1.0,\n        \"max\": 2.0,\n        \"num_unique_values\": 2,\n        \"samples\": [\n          1.0\n        ],\n        \"semantic_type\": \"\",\n        \"description\": \"\"\n      }\n    }\n  ]\n}"
            }
          },
          "metadata": {}
        },
        {
          "output_type": "stream",
          "name": "stdout",
          "text": [
            "\n",
            "Credit Data Sample:\n"
          ]
        },
        {
          "output_type": "display_data",
          "data": {
            "text/plain": [
              "        ID  MONTHS_BALANCE STATUS\n",
              "0  5001711               0      X\n",
              "1  5001711              -1      0\n",
              "2  5001711              -2      0\n",
              "3  5001711              -3      0\n",
              "4  5001712               0      C"
            ],
            "text/html": [
              "\n",
              "  <div id=\"df-ea1d1429-a812-4f0b-ae79-ddb767833c55\" class=\"colab-df-container\">\n",
              "    <div>\n",
              "<style scoped>\n",
              "    .dataframe tbody tr th:only-of-type {\n",
              "        vertical-align: middle;\n",
              "    }\n",
              "\n",
              "    .dataframe tbody tr th {\n",
              "        vertical-align: top;\n",
              "    }\n",
              "\n",
              "    .dataframe thead th {\n",
              "        text-align: right;\n",
              "    }\n",
              "</style>\n",
              "<table border=\"1\" class=\"dataframe\">\n",
              "  <thead>\n",
              "    <tr style=\"text-align: right;\">\n",
              "      <th></th>\n",
              "      <th>ID</th>\n",
              "      <th>MONTHS_BALANCE</th>\n",
              "      <th>STATUS</th>\n",
              "    </tr>\n",
              "  </thead>\n",
              "  <tbody>\n",
              "    <tr>\n",
              "      <th>0</th>\n",
              "      <td>5001711</td>\n",
              "      <td>0</td>\n",
              "      <td>X</td>\n",
              "    </tr>\n",
              "    <tr>\n",
              "      <th>1</th>\n",
              "      <td>5001711</td>\n",
              "      <td>-1</td>\n",
              "      <td>0</td>\n",
              "    </tr>\n",
              "    <tr>\n",
              "      <th>2</th>\n",
              "      <td>5001711</td>\n",
              "      <td>-2</td>\n",
              "      <td>0</td>\n",
              "    </tr>\n",
              "    <tr>\n",
              "      <th>3</th>\n",
              "      <td>5001711</td>\n",
              "      <td>-3</td>\n",
              "      <td>0</td>\n",
              "    </tr>\n",
              "    <tr>\n",
              "      <th>4</th>\n",
              "      <td>5001712</td>\n",
              "      <td>0</td>\n",
              "      <td>C</td>\n",
              "    </tr>\n",
              "  </tbody>\n",
              "</table>\n",
              "</div>\n",
              "    <div class=\"colab-df-buttons\">\n",
              "\n",
              "  <div class=\"colab-df-container\">\n",
              "    <button class=\"colab-df-convert\" onclick=\"convertToInteractive('df-ea1d1429-a812-4f0b-ae79-ddb767833c55')\"\n",
              "            title=\"Convert this dataframe to an interactive table.\"\n",
              "            style=\"display:none;\">\n",
              "\n",
              "  <svg xmlns=\"http://www.w3.org/2000/svg\" height=\"24px\" viewBox=\"0 -960 960 960\">\n",
              "    <path d=\"M120-120v-720h720v720H120Zm60-500h600v-160H180v160Zm220 220h160v-160H400v160Zm0 220h160v-160H400v160ZM180-400h160v-160H180v160Zm440 0h160v-160H620v160ZM180-180h160v-160H180v160Zm440 0h160v-160H620v160Z\"/>\n",
              "  </svg>\n",
              "    </button>\n",
              "\n",
              "  <style>\n",
              "    .colab-df-container {\n",
              "      display:flex;\n",
              "      gap: 12px;\n",
              "    }\n",
              "\n",
              "    .colab-df-convert {\n",
              "      background-color: #E8F0FE;\n",
              "      border: none;\n",
              "      border-radius: 50%;\n",
              "      cursor: pointer;\n",
              "      display: none;\n",
              "      fill: #1967D2;\n",
              "      height: 32px;\n",
              "      padding: 0 0 0 0;\n",
              "      width: 32px;\n",
              "    }\n",
              "\n",
              "    .colab-df-convert:hover {\n",
              "      background-color: #E2EBFA;\n",
              "      box-shadow: 0px 1px 2px rgba(60, 64, 67, 0.3), 0px 1px 3px 1px rgba(60, 64, 67, 0.15);\n",
              "      fill: #174EA6;\n",
              "    }\n",
              "\n",
              "    .colab-df-buttons div {\n",
              "      margin-bottom: 4px;\n",
              "    }\n",
              "\n",
              "    [theme=dark] .colab-df-convert {\n",
              "      background-color: #3B4455;\n",
              "      fill: #D2E3FC;\n",
              "    }\n",
              "\n",
              "    [theme=dark] .colab-df-convert:hover {\n",
              "      background-color: #434B5C;\n",
              "      box-shadow: 0px 1px 3px 1px rgba(0, 0, 0, 0.15);\n",
              "      filter: drop-shadow(0px 1px 2px rgba(0, 0, 0, 0.3));\n",
              "      fill: #FFFFFF;\n",
              "    }\n",
              "  </style>\n",
              "\n",
              "    <script>\n",
              "      const buttonEl =\n",
              "        document.querySelector('#df-ea1d1429-a812-4f0b-ae79-ddb767833c55 button.colab-df-convert');\n",
              "      buttonEl.style.display =\n",
              "        google.colab.kernel.accessAllowed ? 'block' : 'none';\n",
              "\n",
              "      async function convertToInteractive(key) {\n",
              "        const element = document.querySelector('#df-ea1d1429-a812-4f0b-ae79-ddb767833c55');\n",
              "        const dataTable =\n",
              "          await google.colab.kernel.invokeFunction('convertToInteractive',\n",
              "                                                    [key], {});\n",
              "        if (!dataTable) return;\n",
              "\n",
              "        const docLinkHtml = 'Like what you see? Visit the ' +\n",
              "          '<a target=\"_blank\" href=https://colab.research.google.com/notebooks/data_table.ipynb>data table notebook</a>'\n",
              "          + ' to learn more about interactive tables.';\n",
              "        element.innerHTML = '';\n",
              "        dataTable['output_type'] = 'display_data';\n",
              "        await google.colab.output.renderOutput(dataTable, element);\n",
              "        const docLink = document.createElement('div');\n",
              "        docLink.innerHTML = docLinkHtml;\n",
              "        element.appendChild(docLink);\n",
              "      }\n",
              "    </script>\n",
              "  </div>\n",
              "\n",
              "\n",
              "<div id=\"df-96facec8-26f4-4fcd-bfb2-f4011197d5af\">\n",
              "  <button class=\"colab-df-quickchart\" onclick=\"quickchart('df-96facec8-26f4-4fcd-bfb2-f4011197d5af')\"\n",
              "            title=\"Suggest charts\"\n",
              "            style=\"display:none;\">\n",
              "\n",
              "<svg xmlns=\"http://www.w3.org/2000/svg\" height=\"24px\"viewBox=\"0 0 24 24\"\n",
              "     width=\"24px\">\n",
              "    <g>\n",
              "        <path d=\"M19 3H5c-1.1 0-2 .9-2 2v14c0 1.1.9 2 2 2h14c1.1 0 2-.9 2-2V5c0-1.1-.9-2-2-2zM9 17H7v-7h2v7zm4 0h-2V7h2v10zm4 0h-2v-4h2v4z\"/>\n",
              "    </g>\n",
              "</svg>\n",
              "  </button>\n",
              "\n",
              "<style>\n",
              "  .colab-df-quickchart {\n",
              "      --bg-color: #E8F0FE;\n",
              "      --fill-color: #1967D2;\n",
              "      --hover-bg-color: #E2EBFA;\n",
              "      --hover-fill-color: #174EA6;\n",
              "      --disabled-fill-color: #AAA;\n",
              "      --disabled-bg-color: #DDD;\n",
              "  }\n",
              "\n",
              "  [theme=dark] .colab-df-quickchart {\n",
              "      --bg-color: #3B4455;\n",
              "      --fill-color: #D2E3FC;\n",
              "      --hover-bg-color: #434B5C;\n",
              "      --hover-fill-color: #FFFFFF;\n",
              "      --disabled-bg-color: #3B4455;\n",
              "      --disabled-fill-color: #666;\n",
              "  }\n",
              "\n",
              "  .colab-df-quickchart {\n",
              "    background-color: var(--bg-color);\n",
              "    border: none;\n",
              "    border-radius: 50%;\n",
              "    cursor: pointer;\n",
              "    display: none;\n",
              "    fill: var(--fill-color);\n",
              "    height: 32px;\n",
              "    padding: 0;\n",
              "    width: 32px;\n",
              "  }\n",
              "\n",
              "  .colab-df-quickchart:hover {\n",
              "    background-color: var(--hover-bg-color);\n",
              "    box-shadow: 0 1px 2px rgba(60, 64, 67, 0.3), 0 1px 3px 1px rgba(60, 64, 67, 0.15);\n",
              "    fill: var(--button-hover-fill-color);\n",
              "  }\n",
              "\n",
              "  .colab-df-quickchart-complete:disabled,\n",
              "  .colab-df-quickchart-complete:disabled:hover {\n",
              "    background-color: var(--disabled-bg-color);\n",
              "    fill: var(--disabled-fill-color);\n",
              "    box-shadow: none;\n",
              "  }\n",
              "\n",
              "  .colab-df-spinner {\n",
              "    border: 2px solid var(--fill-color);\n",
              "    border-color: transparent;\n",
              "    border-bottom-color: var(--fill-color);\n",
              "    animation:\n",
              "      spin 1s steps(1) infinite;\n",
              "  }\n",
              "\n",
              "  @keyframes spin {\n",
              "    0% {\n",
              "      border-color: transparent;\n",
              "      border-bottom-color: var(--fill-color);\n",
              "      border-left-color: var(--fill-color);\n",
              "    }\n",
              "    20% {\n",
              "      border-color: transparent;\n",
              "      border-left-color: var(--fill-color);\n",
              "      border-top-color: var(--fill-color);\n",
              "    }\n",
              "    30% {\n",
              "      border-color: transparent;\n",
              "      border-left-color: var(--fill-color);\n",
              "      border-top-color: var(--fill-color);\n",
              "      border-right-color: var(--fill-color);\n",
              "    }\n",
              "    40% {\n",
              "      border-color: transparent;\n",
              "      border-right-color: var(--fill-color);\n",
              "      border-top-color: var(--fill-color);\n",
              "    }\n",
              "    60% {\n",
              "      border-color: transparent;\n",
              "      border-right-color: var(--fill-color);\n",
              "    }\n",
              "    80% {\n",
              "      border-color: transparent;\n",
              "      border-right-color: var(--fill-color);\n",
              "      border-bottom-color: var(--fill-color);\n",
              "    }\n",
              "    90% {\n",
              "      border-color: transparent;\n",
              "      border-bottom-color: var(--fill-color);\n",
              "    }\n",
              "  }\n",
              "</style>\n",
              "\n",
              "  <script>\n",
              "    async function quickchart(key) {\n",
              "      const quickchartButtonEl =\n",
              "        document.querySelector('#' + key + ' button');\n",
              "      quickchartButtonEl.disabled = true;  // To prevent multiple clicks.\n",
              "      quickchartButtonEl.classList.add('colab-df-spinner');\n",
              "      try {\n",
              "        const charts = await google.colab.kernel.invokeFunction(\n",
              "            'suggestCharts', [key], {});\n",
              "      } catch (error) {\n",
              "        console.error('Error during call to suggestCharts:', error);\n",
              "      }\n",
              "      quickchartButtonEl.classList.remove('colab-df-spinner');\n",
              "      quickchartButtonEl.classList.add('colab-df-quickchart-complete');\n",
              "    }\n",
              "    (() => {\n",
              "      let quickchartButtonEl =\n",
              "        document.querySelector('#df-96facec8-26f4-4fcd-bfb2-f4011197d5af button');\n",
              "      quickchartButtonEl.style.display =\n",
              "        google.colab.kernel.accessAllowed ? 'block' : 'none';\n",
              "    })();\n",
              "  </script>\n",
              "</div>\n",
              "\n",
              "    </div>\n",
              "  </div>\n"
            ],
            "application/vnd.google.colaboratory.intrinsic+json": {
              "type": "dataframe",
              "summary": "{\n  \"name\": \"display(credit_df\",\n  \"rows\": 5,\n  \"fields\": [\n    {\n      \"column\": \"ID\",\n      \"properties\": {\n        \"dtype\": \"number\",\n        \"std\": 0,\n        \"min\": 5001711,\n        \"max\": 5001712,\n        \"num_unique_values\": 2,\n        \"samples\": [\n          5001712,\n          5001711\n        ],\n        \"semantic_type\": \"\",\n        \"description\": \"\"\n      }\n    },\n    {\n      \"column\": \"MONTHS_BALANCE\",\n      \"properties\": {\n        \"dtype\": \"number\",\n        \"std\": 1,\n        \"min\": -3,\n        \"max\": 0,\n        \"num_unique_values\": 4,\n        \"samples\": [\n          -1,\n          -3\n        ],\n        \"semantic_type\": \"\",\n        \"description\": \"\"\n      }\n    },\n    {\n      \"column\": \"STATUS\",\n      \"properties\": {\n        \"dtype\": \"string\",\n        \"num_unique_values\": 3,\n        \"samples\": [\n          \"X\",\n          \"0\"\n        ],\n        \"semantic_type\": \"\",\n        \"description\": \"\"\n      }\n    }\n  ]\n}"
            }
          },
          "metadata": {}
        }
      ]
    },
    {
      "cell_type": "code",
      "source": [
        "# Check column types\n",
        "print(\"\\nData Types in Application Data:\")\n",
        "print(app_df.dtypes)\n",
        "\n",
        "print(\"\\nData Types in Credit Data:\")\n",
        "print(credit_df.dtypes)"
      ],
      "metadata": {
        "colab": {
          "base_uri": "https://localhost:8080/"
        },
        "id": "ZHAwWsIRgi1V",
        "outputId": "7949b74b-6432-4606-a7ac-99c8befe291c"
      },
      "execution_count": 8,
      "outputs": [
        {
          "output_type": "stream",
          "name": "stdout",
          "text": [
            "\n",
            "Data Types in Application Data:\n",
            "ID                       int64\n",
            "CODE_GENDER             object\n",
            "FLAG_OWN_CAR            object\n",
            "FLAG_OWN_REALTY         object\n",
            "CNT_CHILDREN             int64\n",
            "AMT_INCOME_TOTAL       float64\n",
            "NAME_INCOME_TYPE        object\n",
            "NAME_EDUCATION_TYPE     object\n",
            "NAME_FAMILY_STATUS      object\n",
            "NAME_HOUSING_TYPE       object\n",
            "DAYS_BIRTH               int64\n",
            "DAYS_EMPLOYED            int64\n",
            "FLAG_MOBIL               int64\n",
            "FLAG_WORK_PHONE          int64\n",
            "FLAG_PHONE               int64\n",
            "FLAG_EMAIL               int64\n",
            "OCCUPATION_TYPE         object\n",
            "CNT_FAM_MEMBERS        float64\n",
            "dtype: object\n",
            "\n",
            "Data Types in Credit Data:\n",
            "ID                 int64\n",
            "MONTHS_BALANCE     int64\n",
            "STATUS            object\n",
            "dtype: object\n"
          ]
        }
      ]
    },
    {
      "cell_type": "code",
      "source": [
        "# prompt: find null values in columns\n",
        "\n",
        "# Check for null values in each column of the application dataset\n",
        "print(\"\\nNull Values in Application Data:\")\n",
        "print(app_df.isnull().sum())\n",
        "\n",
        "# Check for null values in each column of the credit dataset\n",
        "print(\"\\nNull Values in Credit Data:\")\n",
        "print(credit_df.isnull().sum())\n"
      ],
      "metadata": {
        "id": "jtI-uBkKbVIN",
        "outputId": "043789fb-81ca-4a19-b096-9fd39d6d9761",
        "colab": {
          "base_uri": "https://localhost:8080/"
        }
      },
      "execution_count": 9,
      "outputs": [
        {
          "output_type": "stream",
          "name": "stdout",
          "text": [
            "\n",
            "Null Values in Application Data:\n",
            "ID                          0\n",
            "CODE_GENDER                 0\n",
            "FLAG_OWN_CAR                0\n",
            "FLAG_OWN_REALTY             0\n",
            "CNT_CHILDREN                0\n",
            "AMT_INCOME_TOTAL            0\n",
            "NAME_INCOME_TYPE            0\n",
            "NAME_EDUCATION_TYPE         0\n",
            "NAME_FAMILY_STATUS          0\n",
            "NAME_HOUSING_TYPE           0\n",
            "DAYS_BIRTH                  0\n",
            "DAYS_EMPLOYED               0\n",
            "FLAG_MOBIL                  0\n",
            "FLAG_WORK_PHONE             0\n",
            "FLAG_PHONE                  0\n",
            "FLAG_EMAIL                  0\n",
            "OCCUPATION_TYPE        134203\n",
            "CNT_FAM_MEMBERS             0\n",
            "dtype: int64\n",
            "\n",
            "Null Values in Credit Data:\n",
            "ID                0\n",
            "MONTHS_BALANCE    0\n",
            "STATUS            0\n",
            "dtype: int64\n"
          ]
        }
      ]
    },
    {
      "cell_type": "markdown",
      "source": [
        "🔹 Findings from Data Exploration\n",
        "\n",
        "*   The OCCUPATION_TYPE column has 134,203 missing values (a significant amount).\n",
        "*   Other columns have no missing values, which is good.\n",
        "\n"
      ],
      "metadata": {
        "id": "ZYJSRmvvibTF"
      }
    },
    {
      "cell_type": "code",
      "source": [
        "# prompt: find the fill rate for both the dataset app_df and credit_df\n",
        "\n",
        "# Calculate the fill rate for each dataset\n",
        "def calculate_fill_rate(df):\n",
        "  return (df.notnull().sum() / len(df)) * 100\n",
        "\n",
        "\n",
        "print(\"Fill Rate for Application Data:\")\n",
        "print(calculate_fill_rate(app_df))\n",
        "print(\"\\nFill Rate for Credit Data:\")\n",
        "print(calculate_fill_rate(credit_df))\n"
      ],
      "metadata": {
        "colab": {
          "base_uri": "https://localhost:8080/"
        },
        "id": "1QSMW4SS5lBW",
        "outputId": "428705ca-8cb9-4c76-b0f4-888c338e2851"
      },
      "execution_count": 10,
      "outputs": [
        {
          "output_type": "stream",
          "name": "stdout",
          "text": [
            "Fill Rate for Application Data:\n",
            "ID                     100.000000\n",
            "CODE_GENDER            100.000000\n",
            "FLAG_OWN_CAR           100.000000\n",
            "FLAG_OWN_REALTY        100.000000\n",
            "CNT_CHILDREN           100.000000\n",
            "AMT_INCOME_TOTAL       100.000000\n",
            "NAME_INCOME_TYPE       100.000000\n",
            "NAME_EDUCATION_TYPE    100.000000\n",
            "NAME_FAMILY_STATUS     100.000000\n",
            "NAME_HOUSING_TYPE      100.000000\n",
            "DAYS_BIRTH             100.000000\n",
            "DAYS_EMPLOYED          100.000000\n",
            "FLAG_MOBIL             100.000000\n",
            "FLAG_WORK_PHONE        100.000000\n",
            "FLAG_PHONE             100.000000\n",
            "FLAG_EMAIL             100.000000\n",
            "OCCUPATION_TYPE         69.398961\n",
            "CNT_FAM_MEMBERS        100.000000\n",
            "dtype: float64\n",
            "\n",
            "Fill Rate for Credit Data:\n",
            "ID                100.0\n",
            "MONTHS_BALANCE    100.0\n",
            "STATUS            100.0\n",
            "dtype: float64\n"
          ]
        }
      ]
    },
    {
      "cell_type": "markdown",
      "source": [
        "#📌 Step 2: Data Cleaning"
      ],
      "metadata": {
        "id": "rZhRNwZi0UcH"
      }
    },
    {
      "cell_type": "markdown",
      "source": [
        "OBJECTIVE:\n",
        "\n",
        "1.Handle missing values\\\n",
        "2.Convert data types if needed\\\n",
        "3.Remove duplicates"
      ],
      "metadata": {
        "id": "OCAV7SXQaWaY"
      }
    },
    {
      "cell_type": "code",
      "source": [
        "#Filling missing values of OCCUPATION_TYPE\n",
        "mode_value = app_df['OCCUPATION_TYPE'].mode()[0]\n",
        "app_df['OCCUPATION_TYPE'].fillna(mode_value, inplace=True)"
      ],
      "metadata": {
        "colab": {
          "base_uri": "https://localhost:8080/"
        },
        "id": "hKl-hA-bGyiC",
        "outputId": "2a1738d5-14f1-4839-fb39-f66c24dcec91"
      },
      "execution_count": 12,
      "outputs": [
        {
          "output_type": "stream",
          "name": "stderr",
          "text": [
            "<ipython-input-12-bbc09de54286>:3: FutureWarning: A value is trying to be set on a copy of a DataFrame or Series through chained assignment using an inplace method.\n",
            "The behavior will change in pandas 3.0. This inplace method will never work because the intermediate object on which we are setting values always behaves as a copy.\n",
            "\n",
            "For example, when doing 'df[col].method(value, inplace=True)', try using 'df.method({col: value}, inplace=True)' or df[col] = df[col].method(value) instead, to perform the operation inplace on the original object.\n",
            "\n",
            "\n",
            "  app_df['OCCUPATION_TYPE'].fillna(mode_value, inplace=True)\n"
          ]
        }
      ]
    },
    {
      "cell_type": "code",
      "source": [
        "# Convert CNT_FAM_MEMBERS to integer\n",
        "app_df['CNT_FAM_MEMBERS'] = app_df['CNT_FAM_MEMBERS'].astype(int)"
      ],
      "metadata": {
        "id": "6V8QVLn41ZRw"
      },
      "execution_count": 13,
      "outputs": []
    },
    {
      "cell_type": "markdown",
      "source": [
        "#📌 Step 3: Define Target Variables"
      ],
      "metadata": {
        "id": "3bs_8vOd8tpy"
      }
    },
    {
      "cell_type": "code",
      "source": [
        "# prompt: merge both datasets app_df and credit_df\n",
        "\n",
        "import pandas as pd\n",
        "# Merge the two datasets based on the ID column\n",
        "merged_df = pd.merge(app_df, credit_df, on='ID', how='inner')\n",
        "\n",
        "# Display the first few rows of the merged dataset\n",
        "print(\"\\nMerged Data Sample:\")\n",
        "display(merged_df.head())\n"
      ],
      "metadata": {
        "colab": {
          "base_uri": "https://localhost:8080/",
          "height": 261
        },
        "id": "iVDia_4o6wFS",
        "outputId": "a81f3b17-18e4-4095-d361-9c40eaf4d33f"
      },
      "execution_count": 14,
      "outputs": [
        {
          "output_type": "stream",
          "name": "stdout",
          "text": [
            "\n",
            "Merged Data Sample:\n"
          ]
        },
        {
          "output_type": "display_data",
          "data": {
            "text/plain": [
              "        ID CODE_GENDER FLAG_OWN_CAR FLAG_OWN_REALTY  CNT_CHILDREN  \\\n",
              "0  5008804           M            Y               Y             0   \n",
              "1  5008804           M            Y               Y             0   \n",
              "2  5008804           M            Y               Y             0   \n",
              "3  5008804           M            Y               Y             0   \n",
              "4  5008804           M            Y               Y             0   \n",
              "\n",
              "   AMT_INCOME_TOTAL NAME_INCOME_TYPE NAME_EDUCATION_TYPE NAME_FAMILY_STATUS  \\\n",
              "0          427500.0          Working    Higher education     Civil marriage   \n",
              "1          427500.0          Working    Higher education     Civil marriage   \n",
              "2          427500.0          Working    Higher education     Civil marriage   \n",
              "3          427500.0          Working    Higher education     Civil marriage   \n",
              "4          427500.0          Working    Higher education     Civil marriage   \n",
              "\n",
              "  NAME_HOUSING_TYPE  DAYS_BIRTH  DAYS_EMPLOYED  FLAG_MOBIL  FLAG_WORK_PHONE  \\\n",
              "0  Rented apartment      -12005          -4542           1                1   \n",
              "1  Rented apartment      -12005          -4542           1                1   \n",
              "2  Rented apartment      -12005          -4542           1                1   \n",
              "3  Rented apartment      -12005          -4542           1                1   \n",
              "4  Rented apartment      -12005          -4542           1                1   \n",
              "\n",
              "   FLAG_PHONE  FLAG_EMAIL OCCUPATION_TYPE  CNT_FAM_MEMBERS  MONTHS_BALANCE  \\\n",
              "0           0           0        Laborers                2               0   \n",
              "1           0           0        Laborers                2              -1   \n",
              "2           0           0        Laborers                2              -2   \n",
              "3           0           0        Laborers                2              -3   \n",
              "4           0           0        Laborers                2              -4   \n",
              "\n",
              "  STATUS  \n",
              "0      C  \n",
              "1      C  \n",
              "2      C  \n",
              "3      C  \n",
              "4      C  "
            ],
            "text/html": [
              "\n",
              "  <div id=\"df-c0299cfa-031f-4249-96db-54ab793ff8a2\" class=\"colab-df-container\">\n",
              "    <div>\n",
              "<style scoped>\n",
              "    .dataframe tbody tr th:only-of-type {\n",
              "        vertical-align: middle;\n",
              "    }\n",
              "\n",
              "    .dataframe tbody tr th {\n",
              "        vertical-align: top;\n",
              "    }\n",
              "\n",
              "    .dataframe thead th {\n",
              "        text-align: right;\n",
              "    }\n",
              "</style>\n",
              "<table border=\"1\" class=\"dataframe\">\n",
              "  <thead>\n",
              "    <tr style=\"text-align: right;\">\n",
              "      <th></th>\n",
              "      <th>ID</th>\n",
              "      <th>CODE_GENDER</th>\n",
              "      <th>FLAG_OWN_CAR</th>\n",
              "      <th>FLAG_OWN_REALTY</th>\n",
              "      <th>CNT_CHILDREN</th>\n",
              "      <th>AMT_INCOME_TOTAL</th>\n",
              "      <th>NAME_INCOME_TYPE</th>\n",
              "      <th>NAME_EDUCATION_TYPE</th>\n",
              "      <th>NAME_FAMILY_STATUS</th>\n",
              "      <th>NAME_HOUSING_TYPE</th>\n",
              "      <th>DAYS_BIRTH</th>\n",
              "      <th>DAYS_EMPLOYED</th>\n",
              "      <th>FLAG_MOBIL</th>\n",
              "      <th>FLAG_WORK_PHONE</th>\n",
              "      <th>FLAG_PHONE</th>\n",
              "      <th>FLAG_EMAIL</th>\n",
              "      <th>OCCUPATION_TYPE</th>\n",
              "      <th>CNT_FAM_MEMBERS</th>\n",
              "      <th>MONTHS_BALANCE</th>\n",
              "      <th>STATUS</th>\n",
              "    </tr>\n",
              "  </thead>\n",
              "  <tbody>\n",
              "    <tr>\n",
              "      <th>0</th>\n",
              "      <td>5008804</td>\n",
              "      <td>M</td>\n",
              "      <td>Y</td>\n",
              "      <td>Y</td>\n",
              "      <td>0</td>\n",
              "      <td>427500.0</td>\n",
              "      <td>Working</td>\n",
              "      <td>Higher education</td>\n",
              "      <td>Civil marriage</td>\n",
              "      <td>Rented apartment</td>\n",
              "      <td>-12005</td>\n",
              "      <td>-4542</td>\n",
              "      <td>1</td>\n",
              "      <td>1</td>\n",
              "      <td>0</td>\n",
              "      <td>0</td>\n",
              "      <td>Laborers</td>\n",
              "      <td>2</td>\n",
              "      <td>0</td>\n",
              "      <td>C</td>\n",
              "    </tr>\n",
              "    <tr>\n",
              "      <th>1</th>\n",
              "      <td>5008804</td>\n",
              "      <td>M</td>\n",
              "      <td>Y</td>\n",
              "      <td>Y</td>\n",
              "      <td>0</td>\n",
              "      <td>427500.0</td>\n",
              "      <td>Working</td>\n",
              "      <td>Higher education</td>\n",
              "      <td>Civil marriage</td>\n",
              "      <td>Rented apartment</td>\n",
              "      <td>-12005</td>\n",
              "      <td>-4542</td>\n",
              "      <td>1</td>\n",
              "      <td>1</td>\n",
              "      <td>0</td>\n",
              "      <td>0</td>\n",
              "      <td>Laborers</td>\n",
              "      <td>2</td>\n",
              "      <td>-1</td>\n",
              "      <td>C</td>\n",
              "    </tr>\n",
              "    <tr>\n",
              "      <th>2</th>\n",
              "      <td>5008804</td>\n",
              "      <td>M</td>\n",
              "      <td>Y</td>\n",
              "      <td>Y</td>\n",
              "      <td>0</td>\n",
              "      <td>427500.0</td>\n",
              "      <td>Working</td>\n",
              "      <td>Higher education</td>\n",
              "      <td>Civil marriage</td>\n",
              "      <td>Rented apartment</td>\n",
              "      <td>-12005</td>\n",
              "      <td>-4542</td>\n",
              "      <td>1</td>\n",
              "      <td>1</td>\n",
              "      <td>0</td>\n",
              "      <td>0</td>\n",
              "      <td>Laborers</td>\n",
              "      <td>2</td>\n",
              "      <td>-2</td>\n",
              "      <td>C</td>\n",
              "    </tr>\n",
              "    <tr>\n",
              "      <th>3</th>\n",
              "      <td>5008804</td>\n",
              "      <td>M</td>\n",
              "      <td>Y</td>\n",
              "      <td>Y</td>\n",
              "      <td>0</td>\n",
              "      <td>427500.0</td>\n",
              "      <td>Working</td>\n",
              "      <td>Higher education</td>\n",
              "      <td>Civil marriage</td>\n",
              "      <td>Rented apartment</td>\n",
              "      <td>-12005</td>\n",
              "      <td>-4542</td>\n",
              "      <td>1</td>\n",
              "      <td>1</td>\n",
              "      <td>0</td>\n",
              "      <td>0</td>\n",
              "      <td>Laborers</td>\n",
              "      <td>2</td>\n",
              "      <td>-3</td>\n",
              "      <td>C</td>\n",
              "    </tr>\n",
              "    <tr>\n",
              "      <th>4</th>\n",
              "      <td>5008804</td>\n",
              "      <td>M</td>\n",
              "      <td>Y</td>\n",
              "      <td>Y</td>\n",
              "      <td>0</td>\n",
              "      <td>427500.0</td>\n",
              "      <td>Working</td>\n",
              "      <td>Higher education</td>\n",
              "      <td>Civil marriage</td>\n",
              "      <td>Rented apartment</td>\n",
              "      <td>-12005</td>\n",
              "      <td>-4542</td>\n",
              "      <td>1</td>\n",
              "      <td>1</td>\n",
              "      <td>0</td>\n",
              "      <td>0</td>\n",
              "      <td>Laborers</td>\n",
              "      <td>2</td>\n",
              "      <td>-4</td>\n",
              "      <td>C</td>\n",
              "    </tr>\n",
              "  </tbody>\n",
              "</table>\n",
              "</div>\n",
              "    <div class=\"colab-df-buttons\">\n",
              "\n",
              "  <div class=\"colab-df-container\">\n",
              "    <button class=\"colab-df-convert\" onclick=\"convertToInteractive('df-c0299cfa-031f-4249-96db-54ab793ff8a2')\"\n",
              "            title=\"Convert this dataframe to an interactive table.\"\n",
              "            style=\"display:none;\">\n",
              "\n",
              "  <svg xmlns=\"http://www.w3.org/2000/svg\" height=\"24px\" viewBox=\"0 -960 960 960\">\n",
              "    <path d=\"M120-120v-720h720v720H120Zm60-500h600v-160H180v160Zm220 220h160v-160H400v160Zm0 220h160v-160H400v160ZM180-400h160v-160H180v160Zm440 0h160v-160H620v160ZM180-180h160v-160H180v160Zm440 0h160v-160H620v160Z\"/>\n",
              "  </svg>\n",
              "    </button>\n",
              "\n",
              "  <style>\n",
              "    .colab-df-container {\n",
              "      display:flex;\n",
              "      gap: 12px;\n",
              "    }\n",
              "\n",
              "    .colab-df-convert {\n",
              "      background-color: #E8F0FE;\n",
              "      border: none;\n",
              "      border-radius: 50%;\n",
              "      cursor: pointer;\n",
              "      display: none;\n",
              "      fill: #1967D2;\n",
              "      height: 32px;\n",
              "      padding: 0 0 0 0;\n",
              "      width: 32px;\n",
              "    }\n",
              "\n",
              "    .colab-df-convert:hover {\n",
              "      background-color: #E2EBFA;\n",
              "      box-shadow: 0px 1px 2px rgba(60, 64, 67, 0.3), 0px 1px 3px 1px rgba(60, 64, 67, 0.15);\n",
              "      fill: #174EA6;\n",
              "    }\n",
              "\n",
              "    .colab-df-buttons div {\n",
              "      margin-bottom: 4px;\n",
              "    }\n",
              "\n",
              "    [theme=dark] .colab-df-convert {\n",
              "      background-color: #3B4455;\n",
              "      fill: #D2E3FC;\n",
              "    }\n",
              "\n",
              "    [theme=dark] .colab-df-convert:hover {\n",
              "      background-color: #434B5C;\n",
              "      box-shadow: 0px 1px 3px 1px rgba(0, 0, 0, 0.15);\n",
              "      filter: drop-shadow(0px 1px 2px rgba(0, 0, 0, 0.3));\n",
              "      fill: #FFFFFF;\n",
              "    }\n",
              "  </style>\n",
              "\n",
              "    <script>\n",
              "      const buttonEl =\n",
              "        document.querySelector('#df-c0299cfa-031f-4249-96db-54ab793ff8a2 button.colab-df-convert');\n",
              "      buttonEl.style.display =\n",
              "        google.colab.kernel.accessAllowed ? 'block' : 'none';\n",
              "\n",
              "      async function convertToInteractive(key) {\n",
              "        const element = document.querySelector('#df-c0299cfa-031f-4249-96db-54ab793ff8a2');\n",
              "        const dataTable =\n",
              "          await google.colab.kernel.invokeFunction('convertToInteractive',\n",
              "                                                    [key], {});\n",
              "        if (!dataTable) return;\n",
              "\n",
              "        const docLinkHtml = 'Like what you see? Visit the ' +\n",
              "          '<a target=\"_blank\" href=https://colab.research.google.com/notebooks/data_table.ipynb>data table notebook</a>'\n",
              "          + ' to learn more about interactive tables.';\n",
              "        element.innerHTML = '';\n",
              "        dataTable['output_type'] = 'display_data';\n",
              "        await google.colab.output.renderOutput(dataTable, element);\n",
              "        const docLink = document.createElement('div');\n",
              "        docLink.innerHTML = docLinkHtml;\n",
              "        element.appendChild(docLink);\n",
              "      }\n",
              "    </script>\n",
              "  </div>\n",
              "\n",
              "\n",
              "<div id=\"df-575d5d76-98b4-43ca-9eb6-e6d760a4bbc4\">\n",
              "  <button class=\"colab-df-quickchart\" onclick=\"quickchart('df-575d5d76-98b4-43ca-9eb6-e6d760a4bbc4')\"\n",
              "            title=\"Suggest charts\"\n",
              "            style=\"display:none;\">\n",
              "\n",
              "<svg xmlns=\"http://www.w3.org/2000/svg\" height=\"24px\"viewBox=\"0 0 24 24\"\n",
              "     width=\"24px\">\n",
              "    <g>\n",
              "        <path d=\"M19 3H5c-1.1 0-2 .9-2 2v14c0 1.1.9 2 2 2h14c1.1 0 2-.9 2-2V5c0-1.1-.9-2-2-2zM9 17H7v-7h2v7zm4 0h-2V7h2v10zm4 0h-2v-4h2v4z\"/>\n",
              "    </g>\n",
              "</svg>\n",
              "  </button>\n",
              "\n",
              "<style>\n",
              "  .colab-df-quickchart {\n",
              "      --bg-color: #E8F0FE;\n",
              "      --fill-color: #1967D2;\n",
              "      --hover-bg-color: #E2EBFA;\n",
              "      --hover-fill-color: #174EA6;\n",
              "      --disabled-fill-color: #AAA;\n",
              "      --disabled-bg-color: #DDD;\n",
              "  }\n",
              "\n",
              "  [theme=dark] .colab-df-quickchart {\n",
              "      --bg-color: #3B4455;\n",
              "      --fill-color: #D2E3FC;\n",
              "      --hover-bg-color: #434B5C;\n",
              "      --hover-fill-color: #FFFFFF;\n",
              "      --disabled-bg-color: #3B4455;\n",
              "      --disabled-fill-color: #666;\n",
              "  }\n",
              "\n",
              "  .colab-df-quickchart {\n",
              "    background-color: var(--bg-color);\n",
              "    border: none;\n",
              "    border-radius: 50%;\n",
              "    cursor: pointer;\n",
              "    display: none;\n",
              "    fill: var(--fill-color);\n",
              "    height: 32px;\n",
              "    padding: 0;\n",
              "    width: 32px;\n",
              "  }\n",
              "\n",
              "  .colab-df-quickchart:hover {\n",
              "    background-color: var(--hover-bg-color);\n",
              "    box-shadow: 0 1px 2px rgba(60, 64, 67, 0.3), 0 1px 3px 1px rgba(60, 64, 67, 0.15);\n",
              "    fill: var(--button-hover-fill-color);\n",
              "  }\n",
              "\n",
              "  .colab-df-quickchart-complete:disabled,\n",
              "  .colab-df-quickchart-complete:disabled:hover {\n",
              "    background-color: var(--disabled-bg-color);\n",
              "    fill: var(--disabled-fill-color);\n",
              "    box-shadow: none;\n",
              "  }\n",
              "\n",
              "  .colab-df-spinner {\n",
              "    border: 2px solid var(--fill-color);\n",
              "    border-color: transparent;\n",
              "    border-bottom-color: var(--fill-color);\n",
              "    animation:\n",
              "      spin 1s steps(1) infinite;\n",
              "  }\n",
              "\n",
              "  @keyframes spin {\n",
              "    0% {\n",
              "      border-color: transparent;\n",
              "      border-bottom-color: var(--fill-color);\n",
              "      border-left-color: var(--fill-color);\n",
              "    }\n",
              "    20% {\n",
              "      border-color: transparent;\n",
              "      border-left-color: var(--fill-color);\n",
              "      border-top-color: var(--fill-color);\n",
              "    }\n",
              "    30% {\n",
              "      border-color: transparent;\n",
              "      border-left-color: var(--fill-color);\n",
              "      border-top-color: var(--fill-color);\n",
              "      border-right-color: var(--fill-color);\n",
              "    }\n",
              "    40% {\n",
              "      border-color: transparent;\n",
              "      border-right-color: var(--fill-color);\n",
              "      border-top-color: var(--fill-color);\n",
              "    }\n",
              "    60% {\n",
              "      border-color: transparent;\n",
              "      border-right-color: var(--fill-color);\n",
              "    }\n",
              "    80% {\n",
              "      border-color: transparent;\n",
              "      border-right-color: var(--fill-color);\n",
              "      border-bottom-color: var(--fill-color);\n",
              "    }\n",
              "    90% {\n",
              "      border-color: transparent;\n",
              "      border-bottom-color: var(--fill-color);\n",
              "    }\n",
              "  }\n",
              "</style>\n",
              "\n",
              "  <script>\n",
              "    async function quickchart(key) {\n",
              "      const quickchartButtonEl =\n",
              "        document.querySelector('#' + key + ' button');\n",
              "      quickchartButtonEl.disabled = true;  // To prevent multiple clicks.\n",
              "      quickchartButtonEl.classList.add('colab-df-spinner');\n",
              "      try {\n",
              "        const charts = await google.colab.kernel.invokeFunction(\n",
              "            'suggestCharts', [key], {});\n",
              "      } catch (error) {\n",
              "        console.error('Error during call to suggestCharts:', error);\n",
              "      }\n",
              "      quickchartButtonEl.classList.remove('colab-df-spinner');\n",
              "      quickchartButtonEl.classList.add('colab-df-quickchart-complete');\n",
              "    }\n",
              "    (() => {\n",
              "      let quickchartButtonEl =\n",
              "        document.querySelector('#df-575d5d76-98b4-43ca-9eb6-e6d760a4bbc4 button');\n",
              "      quickchartButtonEl.style.display =\n",
              "        google.colab.kernel.accessAllowed ? 'block' : 'none';\n",
              "    })();\n",
              "  </script>\n",
              "</div>\n",
              "\n",
              "    </div>\n",
              "  </div>\n"
            ],
            "application/vnd.google.colaboratory.intrinsic+json": {
              "type": "dataframe",
              "summary": "{\n  \"name\": \"display(merged_df\",\n  \"rows\": 5,\n  \"fields\": [\n    {\n      \"column\": \"ID\",\n      \"properties\": {\n        \"dtype\": \"number\",\n        \"std\": 0,\n        \"min\": 5008804,\n        \"max\": 5008804,\n        \"num_unique_values\": 1,\n        \"samples\": [\n          5008804\n        ],\n        \"semantic_type\": \"\",\n        \"description\": \"\"\n      }\n    },\n    {\n      \"column\": \"CODE_GENDER\",\n      \"properties\": {\n        \"dtype\": \"category\",\n        \"num_unique_values\": 1,\n        \"samples\": [\n          \"M\"\n        ],\n        \"semantic_type\": \"\",\n        \"description\": \"\"\n      }\n    },\n    {\n      \"column\": \"FLAG_OWN_CAR\",\n      \"properties\": {\n        \"dtype\": \"category\",\n        \"num_unique_values\": 1,\n        \"samples\": [\n          \"Y\"\n        ],\n        \"semantic_type\": \"\",\n        \"description\": \"\"\n      }\n    },\n    {\n      \"column\": \"FLAG_OWN_REALTY\",\n      \"properties\": {\n        \"dtype\": \"category\",\n        \"num_unique_values\": 1,\n        \"samples\": [\n          \"Y\"\n        ],\n        \"semantic_type\": \"\",\n        \"description\": \"\"\n      }\n    },\n    {\n      \"column\": \"CNT_CHILDREN\",\n      \"properties\": {\n        \"dtype\": \"number\",\n        \"std\": 0,\n        \"min\": 0,\n        \"max\": 0,\n        \"num_unique_values\": 1,\n        \"samples\": [\n          0\n        ],\n        \"semantic_type\": \"\",\n        \"description\": \"\"\n      }\n    },\n    {\n      \"column\": \"AMT_INCOME_TOTAL\",\n      \"properties\": {\n        \"dtype\": \"number\",\n        \"std\": 0.0,\n        \"min\": 427500.0,\n        \"max\": 427500.0,\n        \"num_unique_values\": 1,\n        \"samples\": [\n          427500.0\n        ],\n        \"semantic_type\": \"\",\n        \"description\": \"\"\n      }\n    },\n    {\n      \"column\": \"NAME_INCOME_TYPE\",\n      \"properties\": {\n        \"dtype\": \"category\",\n        \"num_unique_values\": 1,\n        \"samples\": [\n          \"Working\"\n        ],\n        \"semantic_type\": \"\",\n        \"description\": \"\"\n      }\n    },\n    {\n      \"column\": \"NAME_EDUCATION_TYPE\",\n      \"properties\": {\n        \"dtype\": \"category\",\n        \"num_unique_values\": 1,\n        \"samples\": [\n          \"Higher education\"\n        ],\n        \"semantic_type\": \"\",\n        \"description\": \"\"\n      }\n    },\n    {\n      \"column\": \"NAME_FAMILY_STATUS\",\n      \"properties\": {\n        \"dtype\": \"category\",\n        \"num_unique_values\": 1,\n        \"samples\": [\n          \"Civil marriage\"\n        ],\n        \"semantic_type\": \"\",\n        \"description\": \"\"\n      }\n    },\n    {\n      \"column\": \"NAME_HOUSING_TYPE\",\n      \"properties\": {\n        \"dtype\": \"category\",\n        \"num_unique_values\": 1,\n        \"samples\": [\n          \"Rented apartment\"\n        ],\n        \"semantic_type\": \"\",\n        \"description\": \"\"\n      }\n    },\n    {\n      \"column\": \"DAYS_BIRTH\",\n      \"properties\": {\n        \"dtype\": \"number\",\n        \"std\": 0,\n        \"min\": -12005,\n        \"max\": -12005,\n        \"num_unique_values\": 1,\n        \"samples\": [\n          -12005\n        ],\n        \"semantic_type\": \"\",\n        \"description\": \"\"\n      }\n    },\n    {\n      \"column\": \"DAYS_EMPLOYED\",\n      \"properties\": {\n        \"dtype\": \"number\",\n        \"std\": 0,\n        \"min\": -4542,\n        \"max\": -4542,\n        \"num_unique_values\": 1,\n        \"samples\": [\n          -4542\n        ],\n        \"semantic_type\": \"\",\n        \"description\": \"\"\n      }\n    },\n    {\n      \"column\": \"FLAG_MOBIL\",\n      \"properties\": {\n        \"dtype\": \"number\",\n        \"std\": 0,\n        \"min\": 1,\n        \"max\": 1,\n        \"num_unique_values\": 1,\n        \"samples\": [\n          1\n        ],\n        \"semantic_type\": \"\",\n        \"description\": \"\"\n      }\n    },\n    {\n      \"column\": \"FLAG_WORK_PHONE\",\n      \"properties\": {\n        \"dtype\": \"number\",\n        \"std\": 0,\n        \"min\": 1,\n        \"max\": 1,\n        \"num_unique_values\": 1,\n        \"samples\": [\n          1\n        ],\n        \"semantic_type\": \"\",\n        \"description\": \"\"\n      }\n    },\n    {\n      \"column\": \"FLAG_PHONE\",\n      \"properties\": {\n        \"dtype\": \"number\",\n        \"std\": 0,\n        \"min\": 0,\n        \"max\": 0,\n        \"num_unique_values\": 1,\n        \"samples\": [\n          0\n        ],\n        \"semantic_type\": \"\",\n        \"description\": \"\"\n      }\n    },\n    {\n      \"column\": \"FLAG_EMAIL\",\n      \"properties\": {\n        \"dtype\": \"number\",\n        \"std\": 0,\n        \"min\": 0,\n        \"max\": 0,\n        \"num_unique_values\": 1,\n        \"samples\": [\n          0\n        ],\n        \"semantic_type\": \"\",\n        \"description\": \"\"\n      }\n    },\n    {\n      \"column\": \"OCCUPATION_TYPE\",\n      \"properties\": {\n        \"dtype\": \"category\",\n        \"num_unique_values\": 1,\n        \"samples\": [\n          \"Laborers\"\n        ],\n        \"semantic_type\": \"\",\n        \"description\": \"\"\n      }\n    },\n    {\n      \"column\": \"CNT_FAM_MEMBERS\",\n      \"properties\": {\n        \"dtype\": \"number\",\n        \"std\": 0,\n        \"min\": 2,\n        \"max\": 2,\n        \"num_unique_values\": 1,\n        \"samples\": [\n          2\n        ],\n        \"semantic_type\": \"\",\n        \"description\": \"\"\n      }\n    },\n    {\n      \"column\": \"MONTHS_BALANCE\",\n      \"properties\": {\n        \"dtype\": \"number\",\n        \"std\": 1,\n        \"min\": -4,\n        \"max\": 0,\n        \"num_unique_values\": 5,\n        \"samples\": [\n          -1\n        ],\n        \"semantic_type\": \"\",\n        \"description\": \"\"\n      }\n    },\n    {\n      \"column\": \"STATUS\",\n      \"properties\": {\n        \"dtype\": \"category\",\n        \"num_unique_values\": 1,\n        \"samples\": [\n          \"C\"\n        ],\n        \"semantic_type\": \"\",\n        \"description\": \"\"\n      }\n    }\n  ]\n}"
            }
          },
          "metadata": {}
        }
      ]
    },
    {
      "cell_type": "code",
      "source": [
        "#Defining the target variable\n",
        "#The target variable is whether a customer has 90+ Days Past Due (DPD), which indicates a bad credit risk.\n",
        "merged_df['Bad_Credit'] = merged_df['STATUS'].apply(lambda x: 1 if x in ['3', '4', '5'] else 0)\n"
      ],
      "metadata": {
        "id": "pPrP9Dz79Xp-"
      },
      "execution_count": 15,
      "outputs": []
    },
    {
      "cell_type": "code",
      "source": [
        "# Checking Class Distribution\n",
        "print(merged_df['Bad_Credit'].value_counts())\n",
        "\n",
        "merged_df['Bad_Credit'].value_counts().plot(\n",
        "    kind='pie',\n",
        "    autopct='%1.1f%%',\n",
        "    colors=['green', 'red'],\n",
        "    labels=['Good Credit', 'Bad Credit'],\n",
        "    figsize=(6, 6)\n",
        ")\n",
        "plt.title(\"Target Variable Distribution\")\n",
        "plt.ylabel(\"\")\n",
        "plt.show()\n",
        "\n",
        "\n"
      ],
      "metadata": {
        "colab": {
          "base_uri": "https://localhost:8080/",
          "height": 590
        },
        "id": "HTb2Jtwca7pO",
        "outputId": "0c403fa4-420d-4b6a-b5b6-5d5e54c9ef8d"
      },
      "execution_count": 17,
      "outputs": [
        {
          "output_type": "stream",
          "name": "stdout",
          "text": [
            "Bad_Credit\n",
            "0    775688\n",
            "1      2027\n",
            "Name: count, dtype: int64\n"
          ]
        },
        {
          "output_type": "display_data",
          "data": {
            "text/plain": [
              "<Figure size 600x600 with 1 Axes>"
            ],
            "image/png": "[encoded data removed]"
          },
          "metadata": {}
        }
      ]
    },
    {
      "cell_type": "markdown",
      "source": [
        "**#Findings :**\\\n",
        "1.Since bad credit cases make up only 0.3% of the dataset, this indicates a severe class imbalance problem.\\\n",
        "2.If left unaddressed, machine learning models will likely favor the majority class (good credit) and fail to accurately predict bad credit cases.\\\n",
        "3.Hence we can handle this class imbalance further."
      ],
      "metadata": {
        "id": "gYoAas89iCTl"
      }
    },
    {
      "cell_type": "markdown",
      "source": [
        "#📌 Step 4: Feature Engineering\n",
        "\n",
        "\n",
        "\n"
      ],
      "metadata": {
        "id": "sDG5fALPgmIo"
      }
    },
    {
      "cell_type": "code",
      "source": [
        "# Convert DAYS_BIRTH to Age in Years\n",
        "merged_df['AGE'] = (-merged_df['DAYS_BIRTH']) // 365"
      ],
      "metadata": {
        "id": "V7qgQDtBTNC8"
      },
      "execution_count": 18,
      "outputs": []
    },
    {
      "cell_type": "code",
      "source": [
        "# calculate employement tenure as variable\n",
        "\n",
        "merged_df['Employment_Tenure_Years'] = (-merged_df['DAYS_EMPLOYED']) // 365\n"
      ],
      "metadata": {
        "id": "FvLgQcbiLJDi"
      },
      "execution_count": 19,
      "outputs": []
    },
    {
      "cell_type": "code",
      "source": [
        "#EMPLOYMENT_YEARS\n",
        "merged_df['EMPLOYMENT_YEARS'] = merged_df['DAYS_EMPLOYED'].apply(lambda x: -x // 365 if x != 365243 else np.nan)\n"
      ],
      "metadata": {
        "id": "V3Q6vHNZZUL8"
      },
      "execution_count": 20,
      "outputs": []
    },
    {
      "cell_type": "code",
      "source": [
        "#YEARS_BEFORE_EMPLOYMENT(The difference between Age and Employment Duration)\n",
        "merged_df['YEARS_BEFORE_EMPLOYMENT'] = merged_df['AGE'] - merged_df['Employment_Tenure_Years']"
      ],
      "metadata": {
        "id": "xJA1UAZVZZTM"
      },
      "execution_count": 21,
      "outputs": []
    },
    {
      "cell_type": "code",
      "source": [
        "#EMPLOYMENT_STATUS\n",
        "merged_df['EMPLOYMENT_STATUS'] = merged_df['DAYS_EMPLOYED'].apply(lambda x:\n",
        "    'Unemployed' if x == 365243 else\n",
        "    'Short-term' if x > -365*2 else\n",
        "    'Mid-term' if x > -365*5 else\n",
        "    'Long-term'\n",
        ")\n"
      ],
      "metadata": {
        "id": "ecMnXJ-kZkL-"
      },
      "execution_count": 22,
      "outputs": []
    },
    {
      "cell_type": "code",
      "source": [
        " # Employment stability ratio\n",
        "merged_df['EMPLOYMENT_STABILITY'] = merged_df['Employment_Tenure_Years'] / merged_df['AGE']\n"
      ],
      "metadata": {
        "id": "ir_mUJTjZp5H"
      },
      "execution_count": 23,
      "outputs": []
    },
    {
      "cell_type": "code",
      "source": [
        "# Debt-to-Income Ratio\n",
        "merged_df['INCOME_PER_FAMILY_MEMBER'] = merged_df['AMT_INCOME_TOTAL'] / merged_df['CNT_FAM_MEMBERS']\n"
      ],
      "metadata": {
        "id": "pCHi04tyhETn"
      },
      "execution_count": 24,
      "outputs": []
    },
    {
      "cell_type": "code",
      "source": [
        "# Max Delinquency Level\n",
        "merged_df['MAX_DELINQUENCY'] = merged_df.groupby('ID')['STATUS'].transform(lambda x: max(x))\n"
      ],
      "metadata": {
        "id": "CiOwZrcBhJ7S"
      },
      "execution_count": 25,
      "outputs": []
    },
    {
      "cell_type": "code",
      "source": [
        "#Credit History Length\n",
        "merged_df['CREDIT_HISTORY_LENGTH'] = merged_df.groupby('ID')['MONTHS_BALANCE'].transform(lambda x: abs(min(x)))\n"
      ],
      "metadata": {
        "id": "BqnP7HUwhPDL"
      },
      "execution_count": 26,
      "outputs": []
    },
    {
      "cell_type": "code",
      "source": [
        "#INCOME PER CHILD\n",
        "merged_df['INCOME_PER_CHILD'] = merged_df['AMT_INCOME_TOTAL'] / (merged_df['CNT_CHILDREN'] + 1)\n",
        "#Note:  Why +1? To avoid division by zero when there are no children."
      ],
      "metadata": {
        "id": "M8EhsfZyDuWj"
      },
      "execution_count": 27,
      "outputs": []
    },
    {
      "cell_type": "code",
      "source": [
        "#INCOME PER FAMILY MEMBER\n",
        "merged_df['INCOME_PER_FAMILY_MEMBER'] = merged_df['AMT_INCOME_TOTAL'] / merged_df['CNT_FAM_MEMBERS']\n"
      ],
      "metadata": {
        "id": "jCq1uHU8GBqs"
      },
      "execution_count": 28,
      "outputs": []
    },
    {
      "cell_type": "code",
      "source": [
        "#INCOME TO AGE RATIO\n",
        "merged_df['INCOME_TO_AGE_RATIO'] = merged_df['AMT_INCOME_TOTAL'] / merged_df['AGE']\n",
        "#Higher values indicate higher earnings relative to the applicant's age."
      ],
      "metadata": {
        "id": "rf3UUUSnGYEL"
      },
      "execution_count": 29,
      "outputs": []
    },
    {
      "cell_type": "code",
      "source": [
        " #INCOME TO EMPLOYMENT RATIO\n",
        "merged_df['INCOME_TO_EMPLOYMENT_RATIO'] = merged_df['AMT_INCOME_TOTAL'] / (merged_df['Employment_Tenure_Years'] + 1)\n"
      ],
      "metadata": {
        "id": "YHofKFXlGtt3"
      },
      "execution_count": 30,
      "outputs": []
    },
    {
      "cell_type": "code",
      "source": [
        "#INCOME_PER_YEAR\n",
        "merged_df['INCOME_PER_YEAR'] = merged_df['AMT_INCOME_TOTAL'] / merged_df['AGE']\n"
      ],
      "metadata": {
        "id": "cgmx4hb6c9HX"
      },
      "execution_count": 31,
      "outputs": []
    },
    {
      "cell_type": "code",
      "source": [
        "#HOUSE_OWNERSHIP_IMPACT\n",
        "merged_df['HOUSE_OWNERSHIP_IMPACT'] = merged_df['AMT_INCOME_TOTAL'] * merged_df['FLAG_OWN_REALTY'].apply(lambda x: 1 if x == 'Y' else 0)\n"
      ],
      "metadata": {
        "id": "yXtkbSGYhXy9"
      },
      "execution_count": 32,
      "outputs": []
    },
    {
      "cell_type": "code",
      "source": [
        "#CAR_OWNERSHIP_IMPACT\n",
        "merged_df['CAR_OWNERSHIP_IMPACT'] = merged_df['AMT_INCOME_TOTAL'] * merged_df['FLAG_OWN_CAR'].apply(lambda x: 1 if x == 'Y' else 0)\n"
      ],
      "metadata": {
        "id": "A3ry2UZqigqn"
      },
      "execution_count": 33,
      "outputs": []
    },
    {
      "cell_type": "code",
      "source": [
        "#EMPLOYMENT_GAP_RATIO\n",
        "merged_df['EMPLOYMENT_GAP_RATIO'] = merged_df['YEARS_BEFORE_EMPLOYMENT'] / merged_df['AGE']\n",
        "#Proportion of life spent unemployed"
      ],
      "metadata": {
        "id": "BJqNe2zpiq7j"
      },
      "execution_count": 34,
      "outputs": []
    },
    {
      "cell_type": "code",
      "source": [
        "#EMPLOYMENT_GAP_TO_EMPLOYMENT_RATIO\n",
        "merged_df['EMPLOYMENT_GAP_TO_EMPLOYMENT_RATIO'] = merged_df['YEARS_BEFORE_EMPLOYMENT'] / (merged_df['Employment_Tenure_Years'] + 1)\n",
        "#Years before employment compared to total work years"
      ],
      "metadata": {
        "id": "FE52eXvGjBqc"
      },
      "execution_count": 35,
      "outputs": []
    },
    {
      "cell_type": "code",
      "source": [
        "#LONG_TERM_EMPLOYMENT\n",
        "merged_df['LONG_TERM_EMPLOYMENT'] = merged_df['Employment_Tenure_Years'].apply(lambda x: 1 if x >= 10 else 0)\n",
        "#Indicator for long-term employment"
      ],
      "metadata": {
        "id": "95RUUTwljnYs"
      },
      "execution_count": 36,
      "outputs": []
    },
    {
      "cell_type": "code",
      "source": [
        "#UNEMPLOYMENT_INDICATOR\n",
        "merged_df['UNEMPLOYMENT_INDICATOR'] = merged_df['Employment_Tenure_Years'].apply(lambda x: 1 if pd.isna(x) else 0)\n",
        "#Indicator for unemployment\n"
      ],
      "metadata": {
        "id": "qaSn18wau3L1"
      },
      "execution_count": 37,
      "outputs": []
    },
    {
      "cell_type": "code",
      "source": [
        "#EMPLOYMENT_INCOME_RATIO\n",
        "merged_df['EMPLOYMENT_INCOME_RATIO'] = merged_df['AMT_INCOME_TOTAL'] / (merged_df['Employment_Tenure_Years'] + 1)\n"
      ],
      "metadata": {
        "id": "JZVXLRX_vd4R"
      },
      "execution_count": 38,
      "outputs": []
    },
    {
      "cell_type": "code",
      "source": [
        "merged_df['FREQUENT_JOB_CHANGER'] = (merged_df['EMPLOYMENT_GAP_RATIO'] > 0.5).astype(int)\n"
      ],
      "metadata": {
        "id": "HgvxX1AV2Har"
      },
      "execution_count": 39,
      "outputs": []
    },
    {
      "cell_type": "code",
      "source": [
        "merged_df['EMPLOYMENT_SECURE_SCORE'] = merged_df['LONG_TERM_EMPLOYMENT'] * 100\n"
      ],
      "metadata": {
        "id": "wW1cU2cp2NTz"
      },
      "execution_count": 40,
      "outputs": []
    },
    {
      "cell_type": "code",
      "source": [
        "\n",
        "# UNEMPLOYMENT HISTORY (Adjusted for missing values)\n",
        "merged_df['UNEMPLOYMENT_HISTORY'] = merged_df['UNEMPLOYMENT_INDICATOR'] * merged_df['EMPLOYMENT_GAP_TO_EMPLOYMENT_RATIO'].fillna(0)\n",
        "\n",
        "# EMPLOYMENT TENURE RATIO (Avoid division by zero)\n",
        "merged_df['EMPLOYMENT_TENURE_RATIO'] = merged_df['EMPLOYMENT_YEARS'] / (\n",
        "    merged_df['EMPLOYMENT_YEARS'] + merged_df['EMPLOYMENT_GAP_RATIO'] + 1\n",
        ")\n",
        "\n",
        "# EXPENSE & SAVINGS ESTIMATES\n",
        "merged_df['ANNUAL_EXPENSES_ESTIMATE'] = merged_df['AMT_INCOME_TOTAL'] * 0.6\n",
        "merged_df['SAVINGS_ESTIMATE'] = merged_df['AMT_INCOME_TOTAL'] - merged_df['ANNUAL_EXPENSES_ESTIMATE']\n",
        "\n",
        "# EXPENSE RATIO (Avoid division by zero)\n",
        "merged_df['EXPENSE_RATIO'] = merged_df['ANNUAL_EXPENSES_ESTIMATE'] / np.where(merged_df['AMT_INCOME_TOTAL'] == 0, 1, merged_df['AMT_INCOME_TOTAL'])\n",
        "\n",
        "# WEALTH INDEX & DISPOSABLE INCOME RATIO (Avoid division by zero)\n",
        "merged_df['WEALTH_INDEX'] = merged_df['SAVINGS_ESTIMATE'] / np.where(merged_df['AMT_INCOME_TOTAL'] == 0, 1, merged_df['AMT_INCOME_TOTAL'])\n",
        "merged_df['DISPOSABLE_INCOME_RATIO'] = merged_df['SAVINGS_ESTIMATE'] / np.where(merged_df['AMT_INCOME_TOTAL'] == 0, 1, merged_df['AMT_INCOME_TOTAL'])\n",
        "\n",
        "# INCOME PER WORKING YEAR (Avoid division by zero)\n",
        "merged_df['INCOME_PER_WORKING_YEAR'] = merged_df['AMT_INCOME_TOTAL'] / (merged_df['EMPLOYMENT_YEARS'] + 1)\n",
        "\n",
        "# INCOME STABILITY SCORE (Binary indicator for high-income individuals)\n",
        "merged_df['INCOME_STABILITY_SCORE'] = (merged_df['AMT_INCOME_TOTAL'] > 300000).astype(int)\n",
        "\n",
        "# HOUSING & OWNERSHIP FEATURES\n",
        "merged_df['RENT_OR_OWN_INDICATOR'] = (merged_df['NAME_HOUSING_TYPE'] == 'Rented apartment').astype(int)\n",
        "merged_df['MULTIPLE_PROPERTY_OWNER'] = ((merged_df['FLAG_OWN_REALTY'] == 'Y') & (merged_df['FLAG_OWN_CAR'] == 'Y')).astype(int)\n",
        "merged_df['CAR_LUXURY_SCORE'] = ((merged_df['FLAG_OWN_CAR'] == 'Y') & (merged_df['AMT_INCOME_TOTAL'] > 500000)).astype(int)\n",
        "\n",
        "# CREDIT ACTIVITY FEATURES\n",
        "merged_df['TOTAL_MONTHS'] = merged_df.groupby('ID')['MONTHS_BALANCE'].transform('count')\n",
        "merged_df['MONTHS_SINCE_FIRST'] = merged_df.groupby('ID')['MONTHS_BALANCE'].transform('min').abs()\n",
        "merged_df['MONTHS_SINCE_LAST'] = merged_df.groupby('ID')['MONTHS_BALANCE'].transform('max').abs()\n",
        "\n",
        "# REPAYMENT BEHAVIOR FEATURES\n",
        "merged_df['TOTAL_ON_TIME_PAYMENTS'] = merged_df.groupby('ID')['STATUS'].transform(lambda x: (x == '0').sum())\n",
        "merged_df['TOTAL_LATE_PAYMENTS'] = merged_df.groupby('ID')['STATUS'].transform(lambda x: (x.isin(['1', '2', '3', '4', '5'])).sum())\n",
        "merged_df['TOTAL_MISSED_PAYMENTS'] = merged_df.groupby('ID')['STATUS'].transform(lambda x: (x == 'X').sum())\n",
        "merged_df['TOTAL_CLOSED_CREDITS'] = merged_df.groupby('ID')['STATUS'].transform(lambda x: (x == 'C').sum())\n",
        "\n",
        "# CREDIT HEALTH RATIOS (Avoid division by zero)\n",
        "merged_df['LATE_PAYMENT_RATIO'] = merged_df['TOTAL_LATE_PAYMENTS'] / np.where(merged_df['TOTAL_MONTHS'] == 0, 1, merged_df['TOTAL_MONTHS'])\n",
        "merged_df['ON_TIME_PAYMENT_RATIO'] = merged_df['TOTAL_ON_TIME_PAYMENTS'] / np.where(merged_df['TOTAL_MONTHS'] == 0, 1, merged_df['TOTAL_MONTHS'])\n",
        "merged_df['MISSED_PAYMENT_RATIO'] = merged_df['TOTAL_MISSED_PAYMENTS'] / np.where(merged_df['TOTAL_MONTHS'] == 0, 1, merged_df['TOTAL_MONTHS'])\n",
        "merged_df['CREDIT_CLOSURE_RATIO'] = merged_df['TOTAL_CLOSED_CREDITS'] / np.where(merged_df['TOTAL_MONTHS'] == 0, 1, merged_df['TOTAL_MONTHS'])\n",
        "merged_df['BAD_CREDIT_RATIO'] = merged_df['TOTAL_LATE_PAYMENTS'] / (merged_df['TOTAL_ON_TIME_PAYMENTS'] + 1)\n",
        "merged_df['LOAN_BURDEN_SCORE'] = merged_df['TOTAL_LATE_PAYMENTS'] / (merged_df['TOTAL_CLOSED_CREDITS'] + 1)\n",
        "merged_df['CREDIT_AGE_IMPACT'] = merged_df['CREDIT_HISTORY_LENGTH'] / merged_df['AGE']\n"
      ],
      "metadata": {
        "id": "KX2qTkAAOEl7"
      },
      "execution_count": 41,
      "outputs": []
    },
    {
      "cell_type": "markdown",
      "source": [
        "#📌 Step 5: Data Preprocessing & Cleaning\n"
      ],
      "metadata": {
        "id": "6R19D4rI-uEu"
      }
    },
    {
      "cell_type": "code",
      "source": [
        "\n",
        "# Check for null values in each column of the merged dataset\n",
        "print(\"\\nNull Values in Merged Data:\")\n",
        "print(merged_df.isnull().sum())\n"
      ],
      "metadata": {
        "id": "SGoX7O7FxuiW",
        "outputId": "aa65b327-42d0-4d77-c128-9fe79f4fe380",
        "colab": {
          "base_uri": "https://localhost:8080/"
        }
      },
      "execution_count": 42,
      "outputs": [
        {
          "output_type": "stream",
          "name": "stdout",
          "text": [
            "\n",
            "Null Values in Merged Data:\n",
            "ID                      0\n",
            "CODE_GENDER             0\n",
            "FLAG_OWN_CAR            0\n",
            "FLAG_OWN_REALTY         0\n",
            "CNT_CHILDREN            0\n",
            "                       ..\n",
            "MISSED_PAYMENT_RATIO    0\n",
            "CREDIT_CLOSURE_RATIO    0\n",
            "BAD_CREDIT_RATIO        0\n",
            "LOAN_BURDEN_SCORE       0\n",
            "CREDIT_AGE_IMPACT       0\n",
            "Length: 69, dtype: int64\n"
          ]
        }
      ]
    },
    {
      "source": [
        "# prompt: name all the columns vertically\n",
        "\n",
        "# Assuming 'merged_df' is your DataFrame\n",
        "for column in merged_df.columns:\n",
        "    print(column) # Indent this line to include it within the loop"
      ],
      "cell_type": "code",
      "metadata": {
        "id": "fHltNuj6z8Tx",
        "outputId": "2f5f023f-4eb5-4ecb-a504-33b1e1ef6032",
        "colab": {
          "base_uri": "https://localhost:8080/"
        }
      },
      "execution_count": 45,
      "outputs": [
        {
          "output_type": "stream",
          "name": "stdout",
          "text": [
            "ID\n",
            "CODE_GENDER\n",
            "FLAG_OWN_CAR\n",
            "FLAG_OWN_REALTY\n",
            "CNT_CHILDREN\n",
            "AMT_INCOME_TOTAL\n",
            "NAME_INCOME_TYPE\n",
            "NAME_EDUCATION_TYPE\n",
            "NAME_FAMILY_STATUS\n",
            "NAME_HOUSING_TYPE\n",
            "DAYS_BIRTH\n",
            "DAYS_EMPLOYED\n",
            "FLAG_MOBIL\n",
            "FLAG_WORK_PHONE\n",
            "FLAG_PHONE\n",
            "FLAG_EMAIL\n",
            "OCCUPATION_TYPE\n",
            "CNT_FAM_MEMBERS\n",
            "MONTHS_BALANCE\n",
            "STATUS\n",
            "Bad_Credit\n",
            "AGE\n",
            "Employment_Tenure_Years\n",
            "EMPLOYMENT_YEARS\n",
            "YEARS_BEFORE_EMPLOYMENT\n",
            "EMPLOYMENT_STATUS\n",
            "EMPLOYMENT_STABILITY\n",
            "INCOME_PER_FAMILY_MEMBER\n",
            "MAX_DELINQUENCY\n",
            "CREDIT_HISTORY_LENGTH\n",
            "INCOME_PER_CHILD\n",
            "INCOME_TO_AGE_RATIO\n",
            "INCOME_TO_EMPLOYMENT_RATIO\n",
            "INCOME_PER_YEAR\n",
            "HOUSE_OWNERSHIP_IMPACT\n",
            "CAR_OWNERSHIP_IMPACT\n",
            "EMPLOYMENT_GAP_RATIO\n",
            "EMPLOYMENT_GAP_TO_EMPLOYMENT_RATIO\n",
            "LONG_TERM_EMPLOYMENT\n",
            "UNEMPLOYMENT_INDICATOR\n",
            "EMPLOYMENT_INCOME_RATIO\n",
            "FREQUENT_JOB_CHANGER\n",
            "EMPLOYMENT_SECURE_SCORE\n",
            "UNEMPLOYMENT_HISTORY\n",
            "EMPLOYMENT_TENURE_RATIO\n",
            "ANNUAL_EXPENSES_ESTIMATE\n",
            "SAVINGS_ESTIMATE\n",
            "EXPENSE_RATIO\n",
            "WEALTH_INDEX\n",
            "DISPOSABLE_INCOME_RATIO\n",
            "INCOME_PER_WORKING_YEAR\n",
            "INCOME_STABILITY_SCORE\n",
            "RENT_OR_OWN_INDICATOR\n",
            "MULTIPLE_PROPERTY_OWNER\n",
            "CAR_LUXURY_SCORE\n",
            "TOTAL_MONTHS\n",
            "MONTHS_SINCE_FIRST\n",
            "MONTHS_SINCE_LAST\n",
            "TOTAL_ON_TIME_PAYMENTS\n",
            "TOTAL_LATE_PAYMENTS\n",
            "TOTAL_MISSED_PAYMENTS\n",
            "TOTAL_CLOSED_CREDITS\n",
            "LATE_PAYMENT_RATIO\n",
            "ON_TIME_PAYMENT_RATIO\n",
            "MISSED_PAYMENT_RATIO\n",
            "CREDIT_CLOSURE_RATIO\n",
            "BAD_CREDIT_RATIO\n",
            "LOAN_BURDEN_SCORE\n",
            "CREDIT_AGE_IMPACT\n"
          ]
        }
      ]
    },
    {
      "cell_type": "markdown",
      "source": [
        "# prompt: create a histogram to check the data skewness\n",
        "\n",
        "import matplotlib.pyplot as plt\n",
        "import numpy as np\n",
        "# Check the skewness of numerical features using a histogram\n",
        "numerical_features = merged_df.select_dtypes(include=np.number).columns\n",
        "\n",
        "for feature in numerical_features:\n",
        "    plt.figure(figsize=(8, 6))\n",
        "    plt.hist(merged_df[feature].dropna(), bins=30)\n",
        "    plt.xlabel(feature)\n",
        "    plt.ylabel(\"Frequency\")\n",
        "    plt.title(f\"Histogram of {feature}\")\n",
        "    plt.show()\n",
        "\n",
        "    # Calculate skewness\n",
        "    skewness = merged_df[feature].skew()\n",
        "    print(f\"Skewness of {feature}: {skewness}\")\n"
      ],
      "metadata": {
        "id": "McF2yA4t0cRB"
      }
    }
  ]
}